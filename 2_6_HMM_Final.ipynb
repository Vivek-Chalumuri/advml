{
 "cells": [
  {
   "cell_type": "code",
   "execution_count": 1,
   "metadata": {},
   "outputs": [],
   "source": [
    "import pickle\n",
    "import math\n",
    "import itertools\n",
    "import scipy.stats\n",
    "import numpy as np"
   ]
  },
  {
   "cell_type": "code",
   "execution_count": 20,
   "metadata": {},
   "outputs": [],
   "source": [
    "M = 30\n",
    "N = 20\n",
    "R = 10\n",
    "A = [[0.25,0.75],[0.75,0.25]]"
   ]
  },
  {
   "cell_type": "code",
   "execution_count": 72,
   "metadata": {},
   "outputs": [],
   "source": [
    "def load_obj(name ):\n",
    "    with open('./' + name + '.pkl', 'rb') as f:\n",
    "        return pickle.load(f, encoding='latin1')\n",
    "    \n",
    "sequence_outputs = load_obj(\"sequence_output\")\n",
    "\n",
    "\n",
    "\n",
    "data_dict ={}\n",
    "for key in sorted(sequence_outputs.keys()):\n",
    "    data_dict[key] = sequence_outputs[key]\n",
    "\n",
    "pairs = list(data_dict.keys())"
   ]
  },
  {
   "cell_type": "code",
   "execution_count": 11,
   "metadata": {},
   "outputs": [
    {
     "name": "stdout",
     "output_type": "stream",
     "text": [
      "Mean matrix shape:  (2, 30, 20)\n",
      "[[[ 9.09704858  8.2172244   7.01190022 ...  5.17241157  1.32388834\n",
      "    9.47803901]\n",
      "  [10.77719208  8.6577554  14.5673643  ...  8.2255238   7.41352843\n",
      "   -0.99091372]\n",
      "  [ 7.98440287 15.31955413 10.52138635 ... 15.69936471  6.36954202\n",
      "    4.7943845 ]\n",
      "  ...\n",
      "  [ 8.31837519 22.68187853 13.16779578 ... 14.64381904 15.31280975\n",
      "   15.93020098]\n",
      "  [14.63232346  8.6752246   9.68192368 ... 13.59641344  7.41358396\n",
      "    9.07229364]\n",
      "  [13.7657913  10.92633266 13.34848841 ...  1.37827788 12.35161034\n",
      "   10.60821523]]\n",
      "\n",
      " [[25.43394719 23.61637391 17.09862633 ... 16.88327035 26.71628803\n",
      "   28.95026354]\n",
      "  [29.12626172 30.84553524 26.54444712 ... 27.56605679 23.006448\n",
      "   17.4481759 ]\n",
      "  [17.76515842 25.21490164 20.20358107 ... 25.53721955 27.10379796\n",
      "   20.58872351]\n",
      "  ...\n",
      "  [28.47276739 19.46784011 37.37116889 ... 26.42981037 20.45898196\n",
      "   26.69366125]\n",
      "  [17.78027023 27.06907839 20.11319162 ... 11.08996945 29.48941266\n",
      "   21.75026971]\n",
      "  [20.27944177 20.77256278 15.14532818 ... 16.15856862 20.02816103\n",
      "   26.97847684]]]\n"
     ]
    }
   ],
   "source": [
    "import pickle\n",
    "import random\n",
    "import itertools\n",
    "import numpy as np\n",
    "from collections import defaultdict\n",
    "\n",
    "\n",
    "#Variables you need\n",
    "M = 30\n",
    "N = 20\n",
    "R = 10\n",
    "beta = np.pi\n",
    "sigma = 5\n",
    "# mean for each subfield with respect to the player\n",
    "mu = np.array([np.random.normal(10, sigma, (M,N)), \n",
    "               np.random.normal(23, sigma, (M,N))])\n",
    "print (\"Mean matrix shape: \",mu.shape)\n",
    "\n",
    "print(mu)\n",
    "#Function to save dictionary in a pickle file\n",
    "def save_obj(obj, name ):\n",
    "    with open('./'+ name + '.pkl', 'wb') as f:\n",
    "        pickle.dump(obj, f, pickle.HIGHEST_PROTOCOL)\n",
    "        \n",
    "\n",
    "def generate_data():            \n",
    "    '''\n",
    "    Function to generate tournament data\n",
    "    '''\n",
    "    # Generate Players List and list of pairs\n",
    "    players_list = [ i+1 for i in range (N)]\n",
    "    player_pairs = list(itertools.combinations(players_list, 2))\n",
    "    output_sequences = defaultdict(dict)\n",
    "\n",
    "    for player_pair in player_pairs:\n",
    "        for i in range(R):\n",
    "            output_sequences[player_pair][i+1] = []\n",
    "            sequence = []\n",
    "            table_idx = 0     #If we are in left side of M or right side\n",
    "            for j in range(M):\n",
    "                choice = np.random.choice(['switch', 'stay'], p=[3/float(4), 1/float(4)])\n",
    "                if choice == 'switch':\n",
    "                    table_idx = 1 - table_idx\n",
    "                player1_performance = np.random.normal(mu[table_idx,j,player_pair[0]-1], beta, 1)\n",
    "                player2_performance = np.random.normal(mu[table_idx,j,player_pair[1]-1], beta, 1)\n",
    "                sequence.append(player1_performance+player2_performance)\n",
    "\n",
    "            output_sequences[player_pair][i+1] = sequence\n",
    "    return output_sequences\n",
    "\n",
    "#if __name__ == '__main__':\n",
    "    \n",
    "output_sequences = generate_data()"
   ]
  },
  {
   "cell_type": "code",
   "execution_count": 12,
   "metadata": {},
   "outputs": [],
   "source": [
    "data_dict ={}\n",
    "for key in sorted(output_sequences.keys()):\n",
    "    data_dict[key] = output_sequences[key]\n",
    "\n",
    "pairs = list(data_dict.keys())"
   ]
  },
  {
   "cell_type": "code",
   "execution_count": 13,
   "metadata": {},
   "outputs": [],
   "source": [
    "orginal_MU = mu"
   ]
  },
  {
   "cell_type": "code",
   "execution_count": 14,
   "metadata": {},
   "outputs": [],
   "source": [
    "X = np.zeros([N,N,R,M])\n",
    "for n in range(N):\n",
    "    for m in range(N):\n",
    "        if n == m:\n",
    "            continue\n",
    "        for r in range(R):\n",
    "            for s in range(M):\n",
    "                if (n+1,m+1) in pairs:\n",
    "                    X[n,m,r,s] = data_dict[(n+1,m+1)][r+1][s]\n",
    "                else:\n",
    "                    X[n,m,r,s] = data_dict[(m+1,n+1)][r+1][s]"
   ]
  },
  {
   "cell_type": "code",
   "execution_count": 15,
   "metadata": {},
   "outputs": [],
   "source": [
    "# Intialize"
   ]
  },
  {
   "cell_type": "code",
   "execution_count": 45,
   "metadata": {},
   "outputs": [],
   "source": [
    "# means for all pairs for all subfields\n",
    "sigma = 5\n",
    "mu = np.array([np.random.normal(15, sigma, (M,N)), \n",
    "               np.random.normal(20, sigma, (M,N))]).T\n",
    "beta = 5"
   ]
  },
  {
   "cell_type": "code",
   "execution_count": 46,
   "metadata": {},
   "outputs": [],
   "source": [
    "def calB(mu, beta):\n",
    "    blist = []\n",
    "    B = np.ones([N,N,R,M,2])\n",
    "    for n in range(N):\n",
    "        for m in range(N):\n",
    "            if n == m or (n,m) in blist: \n",
    "                continue\n",
    "            else:\n",
    "                #for r in range(R):\n",
    "                for s in range(M):\n",
    "                    B[n,m,:,s] = scipy.stats.norm((mu[n]+mu[m])[s], beta*np.sqrt(2)).pdf(np.reshape(X[n,m,:,s], [R,1]))\n",
    "                    B[m,n,:,s] = B[n,m,:,s]\n",
    "            blist.append((n,m))\n",
    "            blist.append((m,n))\n",
    "    return B\n",
    "\n",
    "def get_transition(r1, r2):\n",
    "    # calculate A((r1, m1), (r2, m1+1)) (for test purpose we set below)\n",
    "    A = [[0.25,0.75],[0.75,0.25]]\n",
    "    return A[r1][r2]\n",
    "\n",
    "def get_emission(n, m, r, s, o, B):\n",
    "    # calculate O(m, o) (for test purpose we set below)\n",
    "    O = B[n,m,r,s,o]\n",
    "    return O\n",
    "\n",
    "def get_init():\n",
    "    # provide an array containing the initial state probability having size R (for test purpose we set below)\n",
    "    pi = np.array([0.25, 0.75])\n",
    "    # number of rows\n",
    "    R = pi.shape[0]\n",
    "    return pi, R\n",
    "\n",
    "def forward(n, q, t, get_init, get_transition, get_emission, M, B):\n",
    "    pi, K = get_init()\n",
    "    alpha = np.zeros((M, K))\n",
    "\n",
    "    # base case\n",
    "    O = []\n",
    "    for r in range(K):\n",
    "        O.append(get_emission(n, q, t, 0, r, B))\n",
    "    alpha[0, :] = pi * O[:]\n",
    "\n",
    "    # recursive case\n",
    "    for m in range(1, M):\n",
    "        for r2 in range(K):\n",
    "            for r1 in range(K):\n",
    "                #print(n,q,t,m,r2)\n",
    "                transition = get_transition(r1, r2)\n",
    "                emission = get_emission(n, q, t, m, r2, B)\n",
    "                alpha[m, r2] += alpha[m - 1, r1] * transition * emission\n",
    "    return alpha, np.sum(alpha[M - 1, :])\n",
    "\n",
    "\n",
    "def backward(n, q, t, get_init, get_transition, get_emission, M, B):\n",
    "    pi, K = get_init()\n",
    "    beta = np.zeros((M, K))\n",
    "    # base case\n",
    "    beta[M - 1, :] = 1\n",
    "\n",
    "    # recursive case\n",
    "    for m in range(M - 2, -1, -1):\n",
    "        for r1 in range(K):\n",
    "            for r2 in range(K):\n",
    "                transition = get_transition(r1, r2)\n",
    "                emission = get_emission(n, q, t, m+1, r2, B)\n",
    "                beta[m, r1] += beta[m + 1, r2] * transition * emission\n",
    "    O = []\n",
    "    for r in range(K):\n",
    "        O.append(get_emission(n, q, t, 0, r, B))\n",
    "\n",
    "    return beta, np.sum(pi * O[:] * beta[0, :])\n",
    "\n",
    "def cal_gammas(n,q,l,B):\n",
    "    alpha, ha = forward(n,q,l, get_init, get_transition, get_emission, M, B)\n",
    "    beta, _ = backward(n,q,l, get_init, get_transition, get_emission, M, B)\n",
    "    gamma = alpha*beta/ha\n",
    "    digamma = np.zeros([M,2,2])\n",
    "    for t in range(M-1):\n",
    "        for i in range(2):\n",
    "            for j in range(2):\n",
    "                digamma[t,i,j] = alpha[t,i]*A[i][j]*beta[t+1,j]*B[n,q,l,t+1,j]\n",
    "        digamma[t] = digamma[t]/np.sum(digamma[t])\n",
    "    return gamma, digamma\n",
    "\n",
    "def all_gammas(B):\n",
    "    gamma_all = np.zeros([N,N,R,M,2])\n",
    "    digamma_all = np.zeros([N,N,R,M,2,2])\n",
    "    for n in range(N):\n",
    "        for m in range(N):\n",
    "            if m == n: continue\n",
    "            for r in range(R):\n",
    "                gamma_all[n,m,r], digamma_all[n,m,r] = cal_gammas(n,m,r,B)\n",
    "    return gamma_all, digamma_all\n",
    "\n",
    "def Qfunc(gamma_all, digamma_all, B, A):\n",
    "    return (np.sum(gamma_all*np.log(B))+np.sum(digamma_all*np.log(A)))/2.0\n",
    "\n",
    "def re_estimate_mu(gamma_all, mu):\n",
    "    mu_new = np.zeros_like(mu)\n",
    "    for n in range(N):\n",
    "        for t in range(M):\n",
    "            for k in range(2):\n",
    "                x = 0\n",
    "                h = 0\n",
    "                for m in range(N):\n",
    "                    if m == n: continue\n",
    "                    y = 0\n",
    "                    g = 0\n",
    "                    for r in range(R):\n",
    "                        y += gamma_all[n,m,r,t,k]*(X[n,m,r,t]-mu[m,t,k])\n",
    "                        g += gamma_all[n,m,r,t,k]\n",
    "                    x += y\n",
    "                    h += g\n",
    "                mu_new[n,t,k] = x/h\n",
    "    return mu_new\n",
    "\n",
    "def re_estimate_beta(gamma_all, mu):\n",
    "    bnew = np.zeros([N,N,R,M,2])\n",
    "    for n in range(N):\n",
    "        for m in range(N):\n",
    "            for r in range(R):\n",
    "                for t in range(M):\n",
    "                    bnew[n,m,r,t] = gamma_all[n,m,r,t]*(X[n,m,r,t]-mu[n,t]-mu[m,t])**2\n",
    "    bet = np.sqrt(np.sum(bnew)/(2*np.sum(gamma_all)))\n",
    "    return bet\n"
   ]
  },
  {
   "cell_type": "code",
   "execution_count": 47,
   "metadata": {},
   "outputs": [],
   "source": [
    "def train(mu, beta, oldVal): \n",
    "    B = calB(mu, beta)\n",
    "    gamma_all, digamma_all = all_gammas(B)\n",
    "    val = Qfunc(gamma_all, digamma_all, B, A)\n",
    "    if val > oldVal + 1:\n",
    "        oldVal = val\n",
    "        mu_new = re_estimate_mu(gamma_all, mu)\n",
    "        beta_new = re_estimate_beta(gamma_all, mu)\n",
    "        print(val, beta)\n",
    "        return train(mu_new, beta_new, oldVal)\n",
    "    else:\n",
    "        print(\"Converged: \", val, beta)\n",
    "        return mu, beta"
   ]
  },
  {
   "cell_type": "code",
   "execution_count": 48,
   "metadata": {
    "scrolled": true
   },
   "outputs": [
    {
     "name": "stdout",
     "output_type": "stream",
     "text": [
      "-298451.82296046196 5\n",
      "-247593.43226258902 9.468045150015776\n",
      "-237600.2843586056 7.427268129529785\n",
      "-222818.7269808112 6.426169308683692\n",
      "-209344.75650731847 4.602935178225618\n",
      "-202160.59499349468 3.8191840508386288\n",
      "-200553.24678932843 3.4013406861296\n",
      "-199754.74041864404 3.3438582437169178\n",
      "-199741.1999355676 3.290625736937127\n",
      "-198671.3130190007 3.2985716443781588\n",
      "-198345.79727005571 3.2305162405165087\n",
      "-197805.41892585784 3.216273138534212\n",
      "Converged:  -197952.3653821977 3.1798530073158493\n"
     ]
    }
   ],
   "source": [
    "oldVal = -np.Inf\n",
    "m, b = train(mu, beta, oldVal)"
   ]
  },
  {
   "cell_type": "code",
   "execution_count": 49,
   "metadata": {},
   "outputs": [
    {
     "data": {
      "text/plain": [
       "(20, 30, 2)"
      ]
     },
     "execution_count": 49,
     "metadata": {},
     "output_type": "execute_result"
    }
   ],
   "source": [
    "m.shape"
   ]
  },
  {
   "cell_type": "code",
   "execution_count": 50,
   "metadata": {},
   "outputs": [
    {
     "data": {
      "text/plain": [
       "3.1798530073158493"
      ]
     },
     "execution_count": 50,
     "metadata": {},
     "output_type": "execute_result"
    }
   ],
   "source": [
    "b"
   ]
  },
  {
   "cell_type": "code",
   "execution_count": null,
   "metadata": {},
   "outputs": [],
   "source": []
  }
 ],
 "metadata": {
  "kernelspec": {
   "display_name": "Python 3",
   "language": "python",
   "name": "python3"
  },
  "language_info": {
   "codemirror_mode": {
    "name": "ipython",
    "version": 3
   },
   "file_extension": ".py",
   "mimetype": "text/x-python",
   "name": "python",
   "nbconvert_exporter": "python",
   "pygments_lexer": "ipython3",
   "version": "3.6.4"
  }
 },
 "nbformat": 4,
 "nbformat_minor": 2
}
