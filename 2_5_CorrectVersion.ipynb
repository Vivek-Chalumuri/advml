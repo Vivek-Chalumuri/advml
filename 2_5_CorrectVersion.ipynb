{
 "cells": [
  {
   "cell_type": "code",
   "execution_count": 1,
   "metadata": {},
   "outputs": [],
   "source": [
    "import pickle\n",
    "import numpy as np\n",
    "from ex_2_3 import Node, load_params, load_sample, print_tree\n",
    "from ex_2_3_tree_helper import Tree"
   ]
  },
  {
   "cell_type": "code",
   "execution_count": 2,
   "metadata": {},
   "outputs": [],
   "source": [
    "t = Tree()"
   ]
  },
  {
   "cell_type": "code",
   "execution_count": 23,
   "metadata": {},
   "outputs": [],
   "source": [
    "my_data_path = ''\n",
    "\n",
    "with open(my_data_path + 'tree_with_CPD.pkl', 'rb') as handle:\n",
    "    params = pickle.load(handle, encoding='latin1')\n",
    "\n",
    "with open(my_data_path + 'tree_with_leaf_samples.pkl', 'rb') as handle:\n",
    "    samples = pickle.load(handle, encoding='latin1')"
   ]
  },
  {
   "cell_type": "code",
   "execution_count": 24,
   "metadata": {},
   "outputs": [],
   "source": [
    "#params"
   ]
  },
  {
   "cell_type": "code",
   "execution_count": 25,
   "metadata": {},
   "outputs": [
    {
     "name": "stdout",
     "output_type": "stream",
     "text": [
      "1 \n",
      "2_pa1 3_pa1 4_pa1 \n",
      "5_pa2 6_pa2 7_pa3 8_pa3 9_pa3 10_pa3 11_pa4 12_pa4 \n",
      "13_pa7 14_pa7 15_pa7 16_pa7 17_pa8 18_pa8 19_pa8 20_pa8 21_pa9 22_pa10 23_pa10 24_pa11 25_pa12 \n",
      "26_pa13 27_pa13 28_pa14 29_pa15 30_pa15 31_pa15 32_pa16 33_pa16 34_pa16 35_pa16 36_pa17 37_pa17 38_pa17 39_pa17 40_pa18 41_pa18 42_pa18 43_pa18 44_pa19 45_pa19 46_pa20 47_pa22 48_pa22 49_pa22 50_pa22 51_pa23 52_pa23 53_pa23 54_pa24 \n",
      "1:Xv \n",
      "2_pa1:Xv 3_pa1:Xv 4_pa1:Xv \n",
      "5_pa2:0 6_pa2:1 7_pa3:Xv 8_pa3:Xv 9_pa3:Xv 10_pa3:Xv 11_pa4:Xv 12_pa4:Xv \n",
      "13_pa7:Xv 14_pa7:Xv 15_pa7:Xv 16_pa7:Xv 17_pa8:Xv 18_pa8:Xv 19_pa8:Xv 20_pa8:Xv 21_pa9:0 22_pa10:Xv 23_pa10:Xv 24_pa11:Xv 25_pa12:0 \n",
      "26_pa13:0 27_pa13:1 28_pa14:1 29_pa15:0 30_pa15:1 31_pa15:1 32_pa16:1 33_pa16:1 34_pa16:1 35_pa16:1 36_pa17:0 37_pa17:0 38_pa17:1 39_pa17:1 40_pa18:0 41_pa18:1 42_pa18:1 43_pa18:1 44_pa19:0 45_pa19:1 46_pa20:0 47_pa22:1 48_pa22:1 49_pa22:0 50_pa22:0 51_pa23:0 52_pa23:0 53_pa23:1 54_pa24:0 \n"
     ]
    }
   ],
   "source": [
    "\"\"\"\n",
    "    Construct a tree with parameters from the loaded parameter dict.\n",
    "\"\"\"\n",
    "#params_name = list(params.keys())[10]     \n",
    "#param = params[params_name]\n",
    "param = params\n",
    "root = load_params(param)\n",
    "K = len(root.cat[0])\n",
    "\"\"\"\n",
    "    Load a matching sample into the tree.\n",
    "\"\"\"\n",
    "#samples_name = params_name + '_sample_1'\n",
    "#sample = samples[samples_name]\n",
    "sample = samples\n",
    "load_sample(root, sample)\n",
    "\"\"\"\n",
    "Print the tree (not very sophisticated). Structure: nodename_parentname\n",
    "\"\"\"\n",
    "#print(params_name)\n",
    "print_tree(root)\n",
    "\"\"\"\n",
    "Print the tree with sample (not very sophisticated). Structure: nodename_parentname:sample\n",
    "\"\"\"\n",
    "print_tree(root, print_sample = True)"
   ]
  },
  {
   "cell_type": "code",
   "execution_count": 26,
   "metadata": {},
   "outputs": [],
   "source": [
    "# dictionary to hash computed values of sub-problems (massive time saving for big trees)\n",
    "sd_dict = {}\n",
    "\n",
    "def sub_problem(node, i):\n",
    "    #check if leaf node\n",
    "    name = str(node)+'_'+ str(i)\n",
    "    if name in sd_dict.keys(): return sd_dict[name]\n",
    "    if len(node.descendants) == 0:\n",
    "        if node.sample == i:\n",
    "            sd_dict[name] = 1\n",
    "            return 1\n",
    "        else:\n",
    "            sd_dict[name] = 0\n",
    "            return 0\n",
    "    else:\n",
    "        P = 1\n",
    "        #iterate over descendants of the node\n",
    "        for child in node.descendants:\n",
    "            S = 0\n",
    "            #iterate for all possible values of the sample\n",
    "            for j in range(K):\n",
    "                S += child.cat[i][j]*sub_problem(child, j)\n",
    "            P *= S\n",
    "        sd_dict[name] = P\n",
    "        return P\n",
    "    \n",
    "def sample(node):\n",
    "    if len(node.descendants) == 0:\n",
    "        return 'LN'\n",
    "    cat = []\n",
    "    for i in range(K):\n",
    "        if node == root:\n",
    "            cat.append(sub_problem(node,i)*node.cat[0][i])\n",
    "        else:\n",
    "            cat.append(sub_problem(node,i)*node.cat[int(node.ancestor.sample)][i])\n",
    "    cat = [x / sum(cat) for x in cat]\n",
    "    #print(cat)\n",
    "    sample = list(np.random.dirichlet(cat))\n",
    "    sample = sample.index(max(sample))\n",
    "    #set the node value to new sample generated so that while sampling children we can use it from the tree itself\n",
    "    node.sample = sample\n",
    "    return sample\n",
    "\n",
    "# Print Tree (Just a minor change to the provided code). Here we sample as we print.\n",
    "def print_treeSample(root, print_sample = False):\n",
    "    curr_layer = [root]\n",
    "    while curr_layer != []:\n",
    "        string = ''\n",
    "        next_layer = []\n",
    "        for elem in curr_layer:\n",
    "            if elem.ancestor != None:\n",
    "                string = string + '{0}_pa{1} '.format(elem.name, elem.ancestor.name) \n",
    "            else:\n",
    "                string = string + elem.name  + ' ' \n",
    "            if (print_sample and elem.sample != None):\n",
    "                string = string[:-1] + ':' + str(sample(elem))  + ' ' \n",
    "            for child in elem.descendants:\n",
    "                next_layer.append(child)   \n",
    "        print(string)\n",
    "        curr_layer = next_layer"
   ]
  },
  {
   "cell_type": "code",
   "execution_count": 28,
   "metadata": {},
   "outputs": [
    {
     "name": "stdout",
     "output_type": "stream",
     "text": [
      "1:0 \n",
      "2_pa1:1 3_pa1:1 4_pa1:0 \n",
      "5_pa2:LN 6_pa2:LN 7_pa3:1 8_pa3:0 9_pa3:0 10_pa3:1 11_pa4:1 12_pa4:0 \n",
      "13_pa7:1 14_pa7:0 15_pa7:1 16_pa7:1 17_pa8:1 18_pa8:0 19_pa8:0 20_pa8:0 21_pa9:LN 22_pa10:0 23_pa10:1 24_pa11:0 25_pa12:LN \n",
      "26_pa13:LN 27_pa13:LN 28_pa14:LN 29_pa15:LN 30_pa15:LN 31_pa15:LN 32_pa16:LN 33_pa16:LN 34_pa16:LN 35_pa16:LN 36_pa17:LN 37_pa17:LN 38_pa17:LN 39_pa17:LN 40_pa18:LN 41_pa18:LN 42_pa18:LN 43_pa18:LN 44_pa19:LN 45_pa19:LN 46_pa20:LN 47_pa22:LN 48_pa22:LN 49_pa22:LN 50_pa22:LN 51_pa23:LN 52_pa23:LN 53_pa23:LN 54_pa24:LN \n"
     ]
    }
   ],
   "source": [
    "print_treeSample(root, True)"
   ]
  },
  {
   "cell_type": "code",
   "execution_count": null,
   "metadata": {},
   "outputs": [],
   "source": []
  }
 ],
 "metadata": {
  "kernelspec": {
   "display_name": "Python 3",
   "language": "python",
   "name": "python3"
  },
  "language_info": {
   "codemirror_mode": {
    "name": "ipython",
    "version": 3
   },
   "file_extension": ".py",
   "mimetype": "text/x-python",
   "name": "python",
   "nbconvert_exporter": "python",
   "pygments_lexer": "ipython3",
   "version": "3.6.4"
  }
 },
 "nbformat": 4,
 "nbformat_minor": 2
}
